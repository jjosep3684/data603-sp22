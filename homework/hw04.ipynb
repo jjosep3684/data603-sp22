{
  "nbformat": 4,
  "nbformat_minor": 0,
  "metadata": {
    "colab": {
      "name": "hw4#2.ipynb",
      "provenance": []
    },
    "kernelspec": {
      "name": "python3",
      "display_name": "Python 3"
    },
    "language_info": {
      "name": "python"
    }
  },
  "cells": [
    {
      "cell_type": "code",
      "execution_count": 74,
      "metadata": {
        "id": "hT4HXIXmwZEK"
      },
      "outputs": [],
      "source": [
        "!apt-get install openjdk-8-jdk-headless -qq > /dev/null\n"
      ]
    },
    {
      "cell_type": "code",
      "source": [
        "!pip install pyspark"
      ],
      "metadata": {
        "colab": {
          "base_uri": "https://localhost:8080/"
        },
        "id": "8lTLu7Fhwke1",
        "outputId": "b9599a66-4b46-4091-c3af-d356b80bebbd"
      },
      "execution_count": null,
      "outputs": [
        {
          "output_type": "stream",
          "name": "stdout",
          "text": [
            "Collecting pyspark\n",
            "  Downloading pyspark-3.2.1.tar.gz (281.4 MB)\n",
            "\u001b[K     |████████████████████████████████| 281.4 MB 32 kB/s \n",
            "\u001b[?25hCollecting py4j==0.10.9.3\n",
            "  Downloading py4j-0.10.9.3-py2.py3-none-any.whl (198 kB)\n",
            "\u001b[K     |████████████████████████████████| 198 kB 31.8 MB/s \n",
            "\u001b[?25hBuilding wheels for collected packages: pyspark\n",
            "  Building wheel for pyspark (setup.py) ... \u001b[?25l\u001b[?25hdone\n",
            "  Created wheel for pyspark: filename=pyspark-3.2.1-py2.py3-none-any.whl size=281853642 sha256=2ced857b5bbca16cdc43a1c40f75ab4c57dab65b6bb944486e45e2dc6186fd3a\n",
            "  Stored in directory: /root/.cache/pip/wheels/9f/f5/07/7cd8017084dce4e93e84e92efd1e1d5334db05f2e83bcef74f\n",
            "Successfully built pyspark\n",
            "Installing collected packages: py4j, pyspark\n",
            "Successfully installed py4j-0.10.9.3 pyspark-3.2.1\n"
          ]
        }
      ]
    },
    {
      "cell_type": "code",
      "source": [
        "!wget -q https://www-us.apache.org/dist/spark/spark-3.1.2/spark-3.1.2-bin-hadoop2.7.tgz"
      ],
      "metadata": {
        "id": "Lg__TEUOwmce"
      },
      "execution_count": 75,
      "outputs": []
    },
    {
      "cell_type": "code",
      "source": [
        "from pyspark.sql import SparkSession"
      ],
      "metadata": {
        "id": "laWQmdrDwoN-"
      },
      "execution_count": 77,
      "outputs": []
    },
    {
      "cell_type": "code",
      "source": [
        "spark = SparkSession \\\n",
        "    .builder \\\n",
        "    .appName(\"Python Spark SQL basic example\") \\\n",
        "    .config(\"spark.some.config.option\", \"some-value\") \\\n",
        "    .getOrCreate()"
      ],
      "metadata": {
        "id": "F6cv3XWYwpsg"
      },
      "execution_count": 76,
      "outputs": []
    },
    {
      "cell_type": "code",
      "source": [
        "spark"
      ],
      "metadata": {
        "id": "rX4jq94Zws_n",
        "colab": {
          "base_uri": "https://localhost:8080/",
          "height": 220
        },
        "outputId": "964ac947-6481-4428-96a1-71c984b4350e"
      },
      "execution_count": 78,
      "outputs": [
        {
          "output_type": "execute_result",
          "data": {
            "text/html": [
              "\n",
              "            <div>\n",
              "                <p><b>SparkSession - in-memory</b></p>\n",
              "                \n",
              "        <div>\n",
              "            <p><b>SparkContext</b></p>\n",
              "\n",
              "            <p><a href=\"http://89bfdc640ba2:4040\">Spark UI</a></p>\n",
              "\n",
              "            <dl>\n",
              "              <dt>Version</dt>\n",
              "                <dd><code>v3.2.1</code></dd>\n",
              "              <dt>Master</dt>\n",
              "                <dd><code>local[*]</code></dd>\n",
              "              <dt>AppName</dt>\n",
              "                <dd><code>Python Spark SQL basic example</code></dd>\n",
              "            </dl>\n",
              "        </div>\n",
              "        \n",
              "            </div>\n",
              "        "
            ],
            "text/plain": [
              "<pyspark.sql.session.SparkSession at 0x7f2c552817d0>"
            ]
          },
          "metadata": {},
          "execution_count": 78
        }
      ]
    },
    {
      "cell_type": "code",
      "source": [
        "sc = spark.sparkContext\n"
      ],
      "metadata": {
        "id": "JXzkf25fw_cN"
      },
      "execution_count": 79,
      "outputs": []
    },
    {
      "cell_type": "code",
      "source": [
        "import pandas as pd"
      ],
      "metadata": {
        "id": "XJ9tS0sVw8S2"
      },
      "execution_count": 80,
      "outputs": []
    },
    {
      "cell_type": "code",
      "source": [
        "df = spark.read.csv('Part1_Crime_data.csv')\n"
      ],
      "metadata": {
        "id": "Uxv-2u7nxGYW"
      },
      "execution_count": 81,
      "outputs": []
    },
    {
      "cell_type": "code",
      "source": [
        "from pyspark.sql.types import *"
      ],
      "metadata": {
        "id": "59d8rz43zBvC"
      },
      "execution_count": 82,
      "outputs": []
    },
    {
      "cell_type": "code",
      "source": [
        "#1 - specifying schema\n",
        "user_schema = [StructField(\"X\",DoubleType(),True), StructField(\"Y\",DoubleType(),True), StructField(\"RowID\",IntegerType(),True), StructField(\"CrimeDateTime\",StringType(),True), StructField(\"CrimeCode\",StringType(),True), StructField(\"Location\",StringType(),True), StructField(\"Description\",StringType(),True),\n",
        " StructField(\"Inside_Outside\",StringType(),True), StructField(\"Weapon\",StringType(),True), StructField(\"Post\",IntegerType(),True), StructField(\"District\",StringType(),True), StructField(\"Neighborhood\",StringType(),True), StructField(\"Latitude\",DoubleType(),True), StructField(\"Longitude\",DoubleType(),True), StructField(\"GeoLocation\",StringType(),True), StructField(\"Premise\",StringType(),True),\n",
        " StructField(\"VRIName\",StringType(),True), StructField(\"Total_Incidents\",IntegerType(),True), StructField(\"Shape\",StringType(),True)]\n"
      ],
      "metadata": {
        "id": "e_43HWqcxq-l"
      },
      "execution_count": 83,
      "outputs": []
    },
    {
      "cell_type": "code",
      "source": [
        "#reading file using schema def\n",
        "df = spark.read.csv(path='Part1_Crime_data.csv', schema = StructType(user_schema), dateFormat='MM/dd/yyyy',timestampFormat='yyyy-MM-dd HH:mm:ss.SSSSSS')\n"
      ],
      "metadata": {
        "id": "dXK5z2IpyF7s"
      },
      "execution_count": 84,
      "outputs": []
    },
    {
      "cell_type": "code",
      "source": [
        "#removing an invalid top row\n",
        "df2 = spark.createDataFrame(df.tail(df.count()-1), df.schema)\n",
        "df2.show()"
      ],
      "metadata": {
        "colab": {
          "base_uri": "https://localhost:8080/"
        },
        "id": "a_JNWljHyMX-",
        "outputId": "0e40f5e3-2ce8-4931-e60c-a9bfe6e98076"
      },
      "execution_count": 85,
      "outputs": [
        {
          "output_type": "stream",
          "name": "stdout",
          "text": [
            "+----------------+----------------+-----+--------------------+---------+--------------------+--------------------+--------------+-------+----+---------+--------------------+--------+---------+------------------+-----------+------------+---------------+-----+\n",
            "|               X|               Y|RowID|       CrimeDateTime|CrimeCode|            Location|         Description|Inside_Outside| Weapon|Post| District|        Neighborhood|Latitude|Longitude|       GeoLocation|    Premise|     VRIName|Total_Incidents|Shape|\n",
            "+----------------+----------------+-----+--------------------+---------+--------------------+--------------------+--------------+-------+----+---------+--------------------+--------+---------+------------------+-----------+------------+---------------+-----+\n",
            "|1428019.10487147|589532.731060804|    1|2022/03/05 03:43:...|      3NF|       1800 FLEET ST|    ROBBERY - STREET|          null|FIREARM| 213|SOUTHEAST|         FELLS POINT| 39.2847| -76.5913|(39.2847,-76.5913)|       null|        null|              1| null|\n",
            "|1428019.10487147|589532.731060804|    2|2022/03/05 03:43:...|      3NF|       1800 FLEET ST|    ROBBERY - STREET|          null|FIREARM| 213|SOUTHEAST|         FELLS POINT| 39.2847| -76.5913|(39.2847,-76.5913)|       null|        null|              1| null|\n",
            "|1428019.10487147|589532.731060804|    3|2022/03/05 03:43:...|      3NF|       1800 FLEET ST|    ROBBERY - STREET|          null|FIREARM| 213|SOUTHEAST|         FELLS POINT| 39.2847| -76.5913|(39.2847,-76.5913)|       null|        null|              1| null|\n",
            "|1423024.46477252| 572683.29122287|    4|2022/03/05 04:30:...|      3CF|  100 E PATAPSCO AVE|ROBBERY - COMMERCIAL|          null|FIREARM| 913| SOUTHERN|            BROOKLYN| 39.2385| -76.6092|(39.2385,-76.6092)|       null|        null|              1| null|\n",
            "|1400632.37017858|593904.722108476|    5|2022/03/05 01:30:...|      3AF|       RD & KEVIN RD|    ROBBERY - STREET|          null|FIREARM| 822|SOUTHWEST|      ROGNEL HEIGHTS|  39.297|  -76.688|  (39.297,-76.688)|       null|        null|              1| null|\n",
            "|1428080.44697806| 588476.72267982|    6|2022/03/05 03:00:...|      3AF|         900 FELL ST|    ROBBERY - STREET|          null|FIREARM| 213|SOUTHEAST|         FELLS POINT| 39.2818| -76.5911|(39.2818,-76.5911)|       null|        null|              1| null|\n",
            "|1414280.17070409|592206.638800635|    7|2022/03/05 01:30:...|       6F|SARATOGA ST & N C...|             LARCENY|          null|     NA| 711|  WESTERN|     FRANKLIN SQUARE| 39.2922| -76.6398|(39.2922,-76.6398)|       null|        null|              1| null|\n",
            "|1415908.88866331|588352.223355187|    8|2022/03/05 01:55:...|       4B|1200 WASHINGTON BLVD|        AGG. ASSAULT|          null|  KNIFE| 932| SOUTHERN|WASHINGTON VILLAG...| 39.2816| -76.6341|(39.2816,-76.6341)|       null|        null|              1| null|\n",
            "|1416311.79621168|600774.306828942|    9|2022/03/05 01:05:...|       4E|   2400 LAKEVIEW AVE|      COMMON ASSAULT|          null|     NA| 133|  CENTRAL|      RESERVOIR HILL| 39.3157| -76.6325|(39.3157,-76.6325)|       null|        null|              1| null|\n",
            "|1428080.44697806| 588476.72267982|   10|2022/03/05 03:00:...|      3AF|         900 FELL ST|    ROBBERY - STREET|          null|FIREARM| 213|SOUTHEAST|         FELLS POINT| 39.2818| -76.5911|(39.2818,-76.5911)|       null|        null|              1| null|\n",
            "|1400632.37017858|593904.722108476|   11|2022/03/05 01:30:...|      3AF|       RD & KEVIN RD|    ROBBERY - STREET|          null|FIREARM| 822|SOUTHWEST|      ROGNEL HEIGHTS|  39.297|  -76.688|  (39.297,-76.688)|       null|        null|              1| null|\n",
            "|1432647.62687906|592467.759047577|   12|2022/03/04 07:30:...|       6F|      0 N POTOMAC ST|             LARCENY|          null|     NA| 222|SOUTHEAST|PATTERSON PARK NE...| 39.2927| -76.5749|(39.2927,-76.5749)|       null|        null|              1| null|\n",
            "| 1427584.6393205|598090.357990253|   13|2022/03/04 11:10:...|       4E|    1500 RUTLAND AVE|      COMMON ASSAULT|          null|     NA| 331|  EASTERN|       BROADWAY EAST| 39.3082| -76.5927|(39.3082,-76.5927)|       null|   Eastern 1|              1| null|\n",
            "|1443629.80554938|592339.114793877|   14|2022/03/04 12:00:...|       4E|         200 KANE ST|      COMMON ASSAULT|          null|     NA| 232|SOUTHEAST|     HOPKINS BAYVIEW| 39.2922| -76.5361|(39.2922,-76.5361)|       null|        null|              1| null|\n",
            "|1421700.51261744|591035.004412996|   15|2022/03/04 21:10:...|       4E|    100 E REDWOOD ST|      COMMON ASSAULT|          null|     NA| 111|  CENTRAL|            DOWNTOWN| 39.2889| -76.6136|(39.2889,-76.6136)|       null|        null|              1| null|\n",
            "|1436607.65981105|592960.011482402|   16|2022/03/04 01:30:...|       6D|     100 N JANNEY ST|   LARCENY FROM AUTO|          null|     NA| 232|SOUTHEAST|             KRESSON|  39.294| -76.5609| (39.294,-76.5609)|       null|        null|              1| null|\n",
            "|1427019.93930018|616919.110665838|   17|2022/03/04 18:15:...|       9S|    5600 THE ALAMEDA|            SHOOTING|       Outside|FIREARM| 522| NORTHERN|           GLEN OAKS| 39.3599| -76.5944|(39.3599,-76.5944)|PUBLIC AREA|        null|              1| null|\n",
            "|1434177.21740256|604203.414626372|   18|2022/03/04 10:01:...|       5A|      3700 BELAIR RD|            BURGLARY|          null|     NA| 422|NORTHEAST|       BELAIR-EDISON| 39.3249| -76.5693|(39.3249,-76.5693)|       null|Northeastern|              1| null|\n",
            "|1431134.87896789|595228.961546791|   19|2022/03/04 17:40:...|       4E|     800 N GLOVER ST|      COMMON ASSAULT|          null|     NA| 333|  EASTERN|     MADISON-EASTEND| 39.3003| -76.5802|(39.3003,-76.5802)|       null|   Eastern 2|              1| null|\n",
            "|1416193.12712294|588061.976504009|   20|2022/03/04 03:20:...|       4E|     1200 CARROLL ST|      COMMON ASSAULT|          null|     NA| 932| SOUTHERN|WASHINGTON VILLAG...| 39.2808| -76.6331|(39.2808,-76.6331)|       null|        null|              1| null|\n",
            "+----------------+----------------+-----+--------------------+---------+--------------------+--------------------+--------------+-------+----+---------+--------------------+--------+---------+------------------+-----------+------------+---------------+-----+\n",
            "only showing top 20 rows\n",
            "\n"
          ]
        }
      ]
    },
    {
      "cell_type": "code",
      "source": [
        "#Cache the DataFrame\n",
        "df2.cache()"
      ],
      "metadata": {
        "colab": {
          "base_uri": "https://localhost:8080/"
        },
        "id": "Z38blGk10WQN",
        "outputId": "21fd7d4e-d421-4f86-e598-5d91fc25c6bc"
      },
      "execution_count": null,
      "outputs": [
        {
          "output_type": "execute_result",
          "data": {
            "text/plain": [
              "DataFrame[X: double, Y: double, RowID: int, CrimeDateTime: string, CrimeCode: string, Location: string, Description: string, Inside_Outside: string, Weapon: string, Post: int, District: string, Neighborhood: string, Latitude: double, Longitude: double, GeoLocation: string, Premise: string, VRIName: string, Total_Incidents: int, Shape: string]"
            ]
          },
          "metadata": {},
          "execution_count": 38
        }
      ]
    },
    {
      "cell_type": "code",
      "source": [
        "# row count\n",
        "df2.count()"
      ],
      "metadata": {
        "colab": {
          "base_uri": "https://localhost:8080/"
        },
        "id": "o97CycN61tsl",
        "outputId": "2826ee9c-18b9-4605-b594-3e1a33566589"
      },
      "execution_count": null,
      "outputs": [
        {
          "output_type": "execute_result",
          "data": {
            "text/plain": [
              "65533"
            ]
          },
          "metadata": {},
          "execution_count": 40
        }
      ]
    },
    {
      "cell_type": "code",
      "source": [
        "#print schema\n",
        "df2.printSchema() "
      ],
      "metadata": {
        "id": "iNbLchtY10tK",
        "colab": {
          "base_uri": "https://localhost:8080/"
        },
        "outputId": "e83f0599-21c3-49a5-b3f0-d64b9b6a73fa"
      },
      "execution_count": 86,
      "outputs": [
        {
          "output_type": "stream",
          "name": "stdout",
          "text": [
            "root\n",
            " |-- X: double (nullable = true)\n",
            " |-- Y: double (nullable = true)\n",
            " |-- RowID: integer (nullable = true)\n",
            " |-- CrimeDateTime: string (nullable = true)\n",
            " |-- CrimeCode: string (nullable = true)\n",
            " |-- Location: string (nullable = true)\n",
            " |-- Description: string (nullable = true)\n",
            " |-- Inside_Outside: string (nullable = true)\n",
            " |-- Weapon: string (nullable = true)\n",
            " |-- Post: integer (nullable = true)\n",
            " |-- District: string (nullable = true)\n",
            " |-- Neighborhood: string (nullable = true)\n",
            " |-- Latitude: double (nullable = true)\n",
            " |-- Longitude: double (nullable = true)\n",
            " |-- GeoLocation: string (nullable = true)\n",
            " |-- Premise: string (nullable = true)\n",
            " |-- VRIName: string (nullable = true)\n",
            " |-- Total_Incidents: integer (nullable = true)\n",
            " |-- Shape: string (nullable = true)\n",
            "\n"
          ]
        }
      ]
    },
    {
      "cell_type": "code",
      "source": [
        "#first five rows\n",
        "df2.head(5)"
      ],
      "metadata": {
        "colab": {
          "base_uri": "https://localhost:8080/"
        },
        "id": "iMRcNyXS2GA5",
        "outputId": "c33087e6-219f-4e3c-ccf8-409d376cd7b9"
      },
      "execution_count": null,
      "outputs": [
        {
          "output_type": "execute_result",
          "data": {
            "text/plain": [
              "[Row(X=1428019.10487147, Y=589532.731060804, RowID=1, CrimeDateTime='2022/03/05 03:43:00+00', CrimeCode='3NF', Location='1800 FLEET ST', Description='ROBBERY - STREET', Inside_Outside=None, Weapon='FIREARM', Post=213, District='SOUTHEAST', Neighborhood='FELLS POINT', Latitude=39.2847, Longitude=-76.5913, GeoLocation='(39.2847,-76.5913)', Premise=None, VRIName=None, Total_Incidents=1, Shape=None),\n",
              " Row(X=1428019.10487147, Y=589532.731060804, RowID=2, CrimeDateTime='2022/03/05 03:43:00+00', CrimeCode='3NF', Location='1800 FLEET ST', Description='ROBBERY - STREET', Inside_Outside=None, Weapon='FIREARM', Post=213, District='SOUTHEAST', Neighborhood='FELLS POINT', Latitude=39.2847, Longitude=-76.5913, GeoLocation='(39.2847,-76.5913)', Premise=None, VRIName=None, Total_Incidents=1, Shape=None),\n",
              " Row(X=1428019.10487147, Y=589532.731060804, RowID=3, CrimeDateTime='2022/03/05 03:43:00+00', CrimeCode='3NF', Location='1800 FLEET ST', Description='ROBBERY - STREET', Inside_Outside=None, Weapon='FIREARM', Post=213, District='SOUTHEAST', Neighborhood='FELLS POINT', Latitude=39.2847, Longitude=-76.5913, GeoLocation='(39.2847,-76.5913)', Premise=None, VRIName=None, Total_Incidents=1, Shape=None),\n",
              " Row(X=1423024.46477252, Y=572683.29122287, RowID=4, CrimeDateTime='2022/03/05 04:30:00+00', CrimeCode='3CF', Location='100 E PATAPSCO AVE', Description='ROBBERY - COMMERCIAL', Inside_Outside=None, Weapon='FIREARM', Post=913, District='SOUTHERN', Neighborhood='BROOKLYN', Latitude=39.2385, Longitude=-76.6092, GeoLocation='(39.2385,-76.6092)', Premise=None, VRIName=None, Total_Incidents=1, Shape=None),\n",
              " Row(X=1400632.37017858, Y=593904.722108476, RowID=5, CrimeDateTime='2022/03/05 01:30:00+00', CrimeCode='3AF', Location='RD & KEVIN RD', Description='ROBBERY - STREET', Inside_Outside=None, Weapon='FIREARM', Post=822, District='SOUTHWEST', Neighborhood='ROGNEL HEIGHTS', Latitude=39.297, Longitude=-76.688, GeoLocation='(39.297,-76.688)', Premise=None, VRIName=None, Total_Incidents=1, Shape=None)]"
            ]
          },
          "metadata": {},
          "execution_count": 44
        }
      ]
    },
    {
      "cell_type": "code",
      "source": [
        "#distinct crime codes\n",
        "df2.select('CrimeCode').distinct().show()"
      ],
      "metadata": {
        "id": "Y-B4hFf32NEB",
        "colab": {
          "base_uri": "https://localhost:8080/"
        },
        "outputId": "d6c1a152-b22c-49d3-bcca-2ed302a0ca4f"
      },
      "execution_count": 87,
      "outputs": [
        {
          "output_type": "stream",
          "name": "stdout",
          "text": [
            "+---------+\n",
            "|CrimeCode|\n",
            "+---------+\n",
            "|       3P|\n",
            "|       3K|\n",
            "|      3BJ|\n",
            "|       1A|\n",
            "|       3M|\n",
            "|       5F|\n",
            "|       4B|\n",
            "|       3B|\n",
            "|      3NF|\n",
            "|       7A|\n",
            "|      3EF|\n",
            "|       3N|\n",
            "|       5D|\n",
            "|      3LO|\n",
            "|      3AF|\n",
            "|       7B|\n",
            "|      3GO|\n",
            "|     3AJF|\n",
            "|      8AO|\n",
            "|       7C|\n",
            "+---------+\n",
            "only showing top 20 rows\n",
            "\n"
          ]
        }
      ]
    },
    {
      "cell_type": "code",
      "source": [
        "#Count the number of crimes by the crime codes and order by the resulting counts in descending order\n",
        "df2.select('CrimeCode').groupby('CrimeCode').count().sort('count', ascending = False).collect()"
      ],
      "metadata": {
        "id": "UB5HX54d3ZxA",
        "colab": {
          "base_uri": "https://localhost:8080/"
        },
        "outputId": "4f4c130d-5e89-4d5f-b5a2-258494643dee"
      },
      "execution_count": 88,
      "outputs": [
        {
          "output_type": "execute_result",
          "data": {
            "text/plain": [
              "[Row(CrimeCode='4E', count=14369),\n",
              " Row(CrimeCode='6D', count=7350),\n",
              " Row(CrimeCode='7A', count=5166),\n",
              " Row(CrimeCode='6J', count=3559),\n",
              " Row(CrimeCode='5A', count=3114),\n",
              " Row(CrimeCode='4C', count=3047),\n",
              " Row(CrimeCode='4B', count=3025),\n",
              " Row(CrimeCode='4A', count=2701),\n",
              " Row(CrimeCode='6E', count=2610),\n",
              " Row(CrimeCode='6C', count=2460),\n",
              " Row(CrimeCode='6G', count=2261),\n",
              " Row(CrimeCode='9S', count=1370),\n",
              " Row(CrimeCode='3AF', count=1261),\n",
              " Row(CrimeCode='6F', count=1147),\n",
              " Row(CrimeCode='5D', count=1136),\n",
              " Row(CrimeCode='4D', count=1002),\n",
              " Row(CrimeCode='5B', count=986),\n",
              " Row(CrimeCode='5F', count=976),\n",
              " Row(CrimeCode='3B', count=794),\n",
              " Row(CrimeCode='3AJF', count=770),\n",
              " Row(CrimeCode='6L', count=608),\n",
              " Row(CrimeCode='1A', count=554),\n",
              " Row(CrimeCode='3AO', count=543),\n",
              " Row(CrimeCode='2A', count=512),\n",
              " Row(CrimeCode='3GF', count=358),\n",
              " Row(CrimeCode='3CF', count=328),\n",
              " Row(CrimeCode='7C', count=301),\n",
              " Row(CrimeCode='3K', count=286),\n",
              " Row(CrimeCode='3AK', count=282),\n",
              " Row(CrimeCode='3J', count=216),\n",
              " Row(CrimeCode='5C', count=207),\n",
              " Row(CrimeCode='3JF', count=190),\n",
              " Row(CrimeCode='3N', count=176),\n",
              " Row(CrimeCode='7B', count=174),\n",
              " Row(CrimeCode='3BJ', count=149),\n",
              " Row(CrimeCode='3D', count=131),\n",
              " Row(CrimeCode='5E', count=105),\n",
              " Row(CrimeCode='3JO', count=99),\n",
              " Row(CrimeCode='6B', count=98),\n",
              " Row(CrimeCode='3NF', count=83),\n",
              " Row(CrimeCode='6A', count=83),\n",
              " Row(CrimeCode='3AJO', count=78),\n",
              " Row(CrimeCode='8H', count=72),\n",
              " Row(CrimeCode='3GO', count=69),\n",
              " Row(CrimeCode='3P', count=64),\n",
              " Row(CrimeCode='3CK', count=57),\n",
              " Row(CrimeCode='3JK', count=54),\n",
              " Row(CrimeCode='8AO', count=52),\n",
              " Row(CrimeCode='3CO', count=51),\n",
              " Row(CrimeCode='3H', count=41),\n",
              " Row(CrimeCode='1O', count=40),\n",
              " Row(CrimeCode='8I', count=37),\n",
              " Row(CrimeCode='3EF', count=36),\n",
              " Row(CrimeCode='1K', count=34),\n",
              " Row(CrimeCode='3GK', count=33),\n",
              " Row(CrimeCode='8J', count=33),\n",
              " Row(CrimeCode='3EO', count=26),\n",
              " Row(CrimeCode='3LF', count=24),\n",
              " Row(CrimeCode='2B', count=24),\n",
              " Row(CrimeCode='3AJK', count=20),\n",
              " Row(CrimeCode='3F', count=17),\n",
              " Row(CrimeCode='3EK', count=12),\n",
              " Row(CrimeCode='3NO', count=10),\n",
              " Row(CrimeCode='3NK', count=7),\n",
              " Row(CrimeCode='8BO', count=7),\n",
              " Row(CrimeCode='8FO', count=7),\n",
              " Row(CrimeCode='8EO', count=6),\n",
              " Row(CrimeCode='8AV', count=6),\n",
              " Row(CrimeCode='3M', count=5),\n",
              " Row(CrimeCode='3E', count=5),\n",
              " Row(CrimeCode='6H', count=4),\n",
              " Row(CrimeCode='3C', count=4),\n",
              " Row(CrimeCode='5G', count=4),\n",
              " Row(CrimeCode='3LO', count=2),\n",
              " Row(CrimeCode='3L', count=1),\n",
              " Row(CrimeCode='8GO', count=1),\n",
              " Row(CrimeCode='8CV', count=1),\n",
              " Row(CrimeCode='3LK', count=1),\n",
              " Row(CrimeCode='8EV', count=1)]"
            ]
          },
          "metadata": {},
          "execution_count": 88
        }
      ]
    },
    {
      "cell_type": "code",
      "source": [
        "# Which neighborhood had the most crimes?\n",
        "df2.select('Neighborhood').groupby('Neighborhood').count().sort('count', ascending = False).show(1)"
      ],
      "metadata": {
        "id": "smj7qq5o4s8f",
        "colab": {
          "base_uri": "https://localhost:8080/"
        },
        "outputId": "bbc963ad-b33d-487b-c395-96efe8de9cdb"
      },
      "execution_count": 89,
      "outputs": [
        {
          "output_type": "stream",
          "name": "stdout",
          "text": [
            "+------------+-----+\n",
            "|Neighborhood|count|\n",
            "+------------+-----+\n",
            "|    DOWNTOWN| 2282|\n",
            "+------------+-----+\n",
            "only showing top 1 row\n",
            "\n"
          ]
        }
      ]
    },
    {
      "cell_type": "code",
      "source": [
        "from pyspark.sql.functions import *"
      ],
      "metadata": {
        "id": "DebWytyq7nIc"
      },
      "execution_count": 90,
      "outputs": []
    },
    {
      "cell_type": "code",
      "source": [
        "# Which month of the year had most crimes?\n",
        "df2.select(('CrimeDateTime')).groupby(month(df2.CrimeDateTime)).count().sort('count', ascending = False).collect()"
      ],
      "metadata": {
        "colab": {
          "base_uri": "https://localhost:8080/"
        },
        "id": "mlrg4e6U6GOV",
        "outputId": "008e8d5f-a2e1-4860-d9ab-449be86f75c2"
      },
      "execution_count": 91,
      "outputs": [
        {
          "output_type": "execute_result",
          "data": {
            "text/plain": [
              "[Row(month(CrimeDateTime)=None, count=65533)]"
            ]
          },
          "metadata": {},
          "execution_count": 91
        }
      ]
    },
    {
      "cell_type": "code",
      "source": [
        "df2.select('Weapon').distinct().show()"
      ],
      "metadata": {
        "id": "KLPTXkiB886b",
        "colab": {
          "base_uri": "https://localhost:8080/"
        },
        "outputId": "c02d40be-848e-4547-9539-0b73c3e75908"
      },
      "execution_count": 92,
      "outputs": [
        {
          "output_type": "stream",
          "name": "stdout",
          "text": [
            "+-------+\n",
            "| Weapon|\n",
            "+-------+\n",
            "|     NA|\n",
            "|   null|\n",
            "|  HANDS|\n",
            "|  KNIFE|\n",
            "|  OTHER|\n",
            "|   FIRE|\n",
            "|FIREARM|\n",
            "+-------+\n",
            "\n"
          ]
        }
      ]
    },
    {
      "cell_type": "code",
      "source": [
        "df2.select('Weapon').groupby('Weapon').count().sort('count', ascending = True).show(1)"
      ],
      "metadata": {
        "colab": {
          "base_uri": "https://localhost:8080/"
        },
        "id": "p20psyox-Dtm",
        "outputId": "d5bdaa4c-f44b-422b-d687-26a6e2c1de08"
      },
      "execution_count": null,
      "outputs": [
        {
          "output_type": "stream",
          "name": "stdout",
          "text": [
            "+------+-----+\n",
            "|Weapon|count|\n",
            "+------+-----+\n",
            "|  FIRE|  223|\n",
            "+------+-----+\n",
            "only showing top 1 row\n",
            "\n"
          ]
        }
      ]
    }
  ]
}