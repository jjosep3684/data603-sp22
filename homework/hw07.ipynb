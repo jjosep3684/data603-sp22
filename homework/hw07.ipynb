{
  "nbformat": 4,
  "nbformat_minor": 0,
  "metadata": {
    "colab": {
      "name": "Hw7-3.ipynb",
      "provenance": []
    },
    "kernelspec": {
      "name": "python3",
      "display_name": "Python 3"
    },
    "language_info": {
      "name": "python"
    }
  },
  "cells": [
    {
      "cell_type": "markdown",
      "source": [
        "Spark -> Colab"
      ],
      "metadata": {
        "id": "9g38ouoYMv2r"
      }
    },
    {
      "cell_type": "code",
      "execution_count": 1,
      "metadata": {
        "id": "2iR73rJwAf7v"
      },
      "outputs": [],
      "source": [
        "!apt-get install openjdk-8-jdk-headless -qq > /dev/null\n"
      ]
    },
    {
      "cell_type": "code",
      "source": [
        "!pip install pyspark"
      ],
      "metadata": {
        "colab": {
          "base_uri": "https://localhost:8080/"
        },
        "id": "_i2RNno5ArWJ",
        "outputId": "346a202f-4bd0-4905-d4a2-5e7c55ba6ba9"
      },
      "execution_count": 2,
      "outputs": [
        {
          "output_type": "stream",
          "name": "stdout",
          "text": [
            "Collecting pyspark\n",
            "  Downloading pyspark-3.2.1.tar.gz (281.4 MB)\n",
            "\u001b[K     |████████████████████████████████| 281.4 MB 34 kB/s \n",
            "\u001b[?25hCollecting py4j==0.10.9.3\n",
            "  Downloading py4j-0.10.9.3-py2.py3-none-any.whl (198 kB)\n",
            "\u001b[K     |████████████████████████████████| 198 kB 52.3 MB/s \n",
            "\u001b[?25hBuilding wheels for collected packages: pyspark\n",
            "  Building wheel for pyspark (setup.py) ... \u001b[?25l\u001b[?25hdone\n",
            "  Created wheel for pyspark: filename=pyspark-3.2.1-py2.py3-none-any.whl size=281853642 sha256=9a2abaa49ce8ee03bf957aca6ef711ee05f51290cf20b7c9109ae4a8441dcb67\n",
            "  Stored in directory: /root/.cache/pip/wheels/9f/f5/07/7cd8017084dce4e93e84e92efd1e1d5334db05f2e83bcef74f\n",
            "Successfully built pyspark\n",
            "Installing collected packages: py4j, pyspark\n",
            "Successfully installed py4j-0.10.9.3 pyspark-3.2.1\n"
          ]
        }
      ]
    },
    {
      "cell_type": "code",
      "source": [
        "!wget -q https://www-us.apache.org/dist/spark/spark-3.1.2/spark-3.1.2-bin-hadoop2.7.tgz"
      ],
      "metadata": {
        "id": "1cwjmX5vAsxB"
      },
      "execution_count": 3,
      "outputs": []
    },
    {
      "cell_type": "code",
      "source": [
        "from pyspark.sql import SparkSession\n"
      ],
      "metadata": {
        "id": "gSbmQwQkAvKW"
      },
      "execution_count": 4,
      "outputs": []
    },
    {
      "cell_type": "code",
      "source": [
        "spark = SparkSession \\\n",
        "    .builder \\\n",
        "    .appName(\"Python Spark SQL basic example\") \\\n",
        "    .config(\"spark.some.config.option\", \"some-value\") \\\n",
        "    .getOrCreate()"
      ],
      "metadata": {
        "id": "rab3EDoVCg6p"
      },
      "execution_count": 5,
      "outputs": []
    },
    {
      "cell_type": "code",
      "source": [
        "spark"
      ],
      "metadata": {
        "colab": {
          "base_uri": "https://localhost:8080/",
          "height": 220
        },
        "id": "EVVDkLp_CqLv",
        "outputId": "e9669ba9-c550-4e22-a69d-0b1e7be31454"
      },
      "execution_count": 6,
      "outputs": [
        {
          "output_type": "execute_result",
          "data": {
            "text/plain": [
              "<pyspark.sql.session.SparkSession at 0x7f2fb2d55190>"
            ],
            "text/html": [
              "\n",
              "            <div>\n",
              "                <p><b>SparkSession - in-memory</b></p>\n",
              "                \n",
              "        <div>\n",
              "            <p><b>SparkContext</b></p>\n",
              "\n",
              "            <p><a href=\"http://d73b44364ef1:4040\">Spark UI</a></p>\n",
              "\n",
              "            <dl>\n",
              "              <dt>Version</dt>\n",
              "                <dd><code>v3.2.1</code></dd>\n",
              "              <dt>Master</dt>\n",
              "                <dd><code>local[*]</code></dd>\n",
              "              <dt>AppName</dt>\n",
              "                <dd><code>Python Spark SQL basic example</code></dd>\n",
              "            </dl>\n",
              "        </div>\n",
              "        \n",
              "            </div>\n",
              "        "
            ]
          },
          "metadata": {},
          "execution_count": 6
        }
      ]
    },
    {
      "cell_type": "markdown",
      "source": [
        "Pt.1"
      ],
      "metadata": {
        "id": "ykVltHzJM4tr"
      }
    },
    {
      "cell_type": "code",
      "source": [
        "from pyspark.ml import Pipeline\n",
        "from pyspark.ml.classification import DecisionTreeClassifier\n",
        "from pyspark.ml.feature import StringIndexer, VectorIndexer\n",
        "from pyspark.ml.evaluation import MulticlassClassificationEvaluator"
      ],
      "metadata": {
        "id": "y-eXC-FkBbc0"
      },
      "execution_count": 7,
      "outputs": []
    },
    {
      "cell_type": "code",
      "source": [
        "from pyspark.sql.types import *\n",
        "\n",
        "#reading csv file and creating df in spark \n",
        "df = spark.read.csv(\"/content/weatherAUS.csv\", header=True, inferSchema=True)\n",
        "df.show(5)\n"
      ],
      "metadata": {
        "id": "xSogRQpbCZX2"
      },
      "execution_count": null,
      "outputs": []
    },
    {
      "cell_type": "code",
      "source": [
        "from pyspark.ml.feature import StringIndexer, OneHotEncoder, VectorAssembler\n",
        "from pyspark.ml import Pipeline\n",
        "\n",
        "# categorical columns\n",
        "categorical_columns = [\"Location\", \"Sunshine\", \"WindGustDir\", \"WindDir9am\", \"WindDir3pm\", \"RainToday\"]\n"
      ],
      "metadata": {
        "id": "N_A7ZNkeJd79"
      },
      "execution_count": 10,
      "outputs": []
    },
    {
      "cell_type": "code",
      "source": [
        "#pipeline & stages\n",
        "\n",
        "#stringindexer \n",
        "\n",
        "stringindexer_stages = [StringIndexer(inputCol=c, outputCol='strindexed_' + c) for c in categorical_columns]\n",
        "stringindexer_stages += [StringIndexer(inputCol='RainTomorrow', outputCol='label')]\n",
        "\n",
        "#onehotencoder \n",
        "onehotencoder_stages = [OneHotEncoder(inputCol='strindexed_' + c, outputCol='onehot_' + c) for c in categorical_columns]\n",
        "\n",
        "#vector assembler \n",
        "feature_columns = ['onehot_' + c for c in categorical_columns]\n",
        "vectorassembler_stage = VectorAssembler(inputCols=feature_columns, outputCol='features')\n",
        "\n",
        "#pipeline with all stages\n",
        "all_stages = stringindexer_stages + onehotencoder_stages + [vectorassembler_stage]\n",
        "pipeline = Pipeline(stages=all_stages)"
      ],
      "metadata": {
        "id": "laaON971J5qN"
      },
      "execution_count": 11,
      "outputs": []
    },
    {
      "cell_type": "code",
      "source": [
        "#fitting pipeline \n",
        "\n",
        "pipeline_model = pipeline.fit(df)\n"
      ],
      "metadata": {
        "id": "Yyq9lzvTKOvN"
      },
      "execution_count": 12,
      "outputs": []
    },
    {
      "cell_type": "code",
      "source": [
        "#transforming the data\n",
        "\n",
        "final_columns = feature_columns + ['features', 'label']\n",
        "check_df = pipeline_model.transform(df).\\\n",
        "            select(final_columns)\n",
        "            \n",
        "check_df.show(5)"
      ],
      "metadata": {
        "id": "XXy-HY1RKYaR"
      },
      "execution_count": null,
      "outputs": []
    },
    {
      "cell_type": "code",
      "source": [
        "#test/train split\n",
        "\n",
        "training, test = check_df.randomSplit([0.8, 0.2], seed=1234)\n"
      ],
      "metadata": {
        "id": "OMzNzOWiKoq9"
      },
      "execution_count": 14,
      "outputs": []
    },
    {
      "cell_type": "code",
      "source": [
        "#estimator\n",
        "\n",
        "from pyspark.ml.regression import GeneralizedLinearRegression\n",
        "from pyspark.ml.classification import LogisticRegression, DecisionTreeClassifier\n",
        "\n",
        "dt = DecisionTreeClassifier(featuresCol='features', labelCol='label')"
      ],
      "metadata": {
        "id": "UbRDeDjbqs4D"
      },
      "execution_count": 15,
      "outputs": []
    },
    {
      "cell_type": "code",
      "source": [
        "#paramteter grid\n",
        "\n",
        "from pyspark.ml.tuning import ParamGridBuilder, CrossValidator\n",
        "paramGrid = (ParamGridBuilder()\n",
        "             .addGrid(dt.impurity, ['gini', 'entropy'])\n",
        "             .addGrid(dt.maxDepth, [3,5,7])\n",
        "             .addGrid(dt.maxBins, [5, 10, 15])\n",
        "             .addGrid(dt.minInfoGain, [0.0, 0.2, 0.4])\n",
        "             .addGrid(dt.maxDepth, [3,5,7])\n",
        "             .build())"
      ],
      "metadata": {
        "id": "cfulKcxdjkkO"
      },
      "execution_count": 16,
      "outputs": []
    },
    {
      "cell_type": "code",
      "source": [
        "#evaluator\n",
        "\n",
        "evaluator = MulticlassClassificationEvaluator(\n",
        "    labelCol=\"label\", predictionCol=\"prediction\", metricName=\"accuracy\")"
      ],
      "metadata": {
        "id": "XgBxTkjzlfp1"
      },
      "execution_count": 17,
      "outputs": []
    },
    {
      "cell_type": "code",
      "source": [
        "#cv model \n",
        "\n",
        "from pyspark.ml.tuning import CrossValidator\n",
        "cv = CrossValidator(estimator=dt, estimatorParamMaps=paramGrid, evaluator=evaluator, numFolds=4)\n",
        "\n"
      ],
      "metadata": {
        "id": "zVFJcLQeloXm"
      },
      "execution_count": 18,
      "outputs": []
    },
    {
      "cell_type": "code",
      "source": [
        "#Fit cross-validation mode\n",
        "\n",
        "cv_model = cv.fit(training)\n"
      ],
      "metadata": {
        "id": "wJ67kkbVroUr"
      },
      "execution_count": 19,
      "outputs": []
    },
    {
      "cell_type": "code",
      "source": [
        "print(\"best params = \", cv_model.bestModel.params)\n",
        "# print(\"numNodes = \", cv_model.bestModel.numNodes)\n",
        "# print(\"depth = \", cv_model.bestModel.depth)"
      ],
      "metadata": {
        "colab": {
          "base_uri": "https://localhost:8080/"
        },
        "id": "XGotTOMB3I9n",
        "outputId": "61e4984f-0542-4109-c307-64f8be9e834b"
      },
      "execution_count": 20,
      "outputs": [
        {
          "output_type": "stream",
          "name": "stdout",
          "text": [
            "best params =  [Param(parent='DecisionTreeClassifier_f11e68cc38da', name='cacheNodeIds', doc='If false, the algorithm will pass trees to executors to match instances with nodes. If true, the algorithm will cache node IDs for each instance. Caching can speed up training of deeper trees. Users can set how often should the cache be checkpointed or disable it by setting checkpointInterval.'), Param(parent='DecisionTreeClassifier_f11e68cc38da', name='checkpointInterval', doc='set checkpoint interval (>= 1) or disable checkpoint (-1). E.g. 10 means that the cache will get checkpointed every 10 iterations. Note: this setting will be ignored if the checkpoint directory is not set in the SparkContext.'), Param(parent='DecisionTreeClassifier_f11e68cc38da', name='featuresCol', doc='features column name.'), Param(parent='DecisionTreeClassifier_f11e68cc38da', name='impurity', doc='Criterion used for information gain calculation (case-insensitive). Supported options: entropy, gini'), Param(parent='DecisionTreeClassifier_f11e68cc38da', name='labelCol', doc='label column name.'), Param(parent='DecisionTreeClassifier_f11e68cc38da', name='leafCol', doc='Leaf indices column name. Predicted leaf index of each instance in each tree by preorder.'), Param(parent='DecisionTreeClassifier_f11e68cc38da', name='maxBins', doc='Max number of bins for discretizing continuous features.  Must be >=2 and >= number of categories for any categorical feature.'), Param(parent='DecisionTreeClassifier_f11e68cc38da', name='maxDepth', doc='Maximum depth of the tree. (>= 0) E.g., depth 0 means 1 leaf node; depth 1 means 1 internal node + 2 leaf nodes. Must be in range [0, 30].'), Param(parent='DecisionTreeClassifier_f11e68cc38da', name='maxMemoryInMB', doc='Maximum memory in MB allocated to histogram aggregation. If too small, then 1 node will be split per iteration, and its aggregates may exceed this size.'), Param(parent='DecisionTreeClassifier_f11e68cc38da', name='minInfoGain', doc='Minimum information gain for a split to be considered at a tree node.'), Param(parent='DecisionTreeClassifier_f11e68cc38da', name='minInstancesPerNode', doc='Minimum number of instances each child must have after split. If a split causes the left or right child to have fewer than minInstancesPerNode, the split will be discarded as invalid. Should be >= 1.'), Param(parent='DecisionTreeClassifier_f11e68cc38da', name='minWeightFractionPerNode', doc='Minimum fraction of the weighted sample count that each child must have after split. If a split causes the fraction of the total weight in the left or right child to be less than minWeightFractionPerNode, the split will be discarded as invalid. Should be in interval [0.0, 0.5).'), Param(parent='DecisionTreeClassifier_f11e68cc38da', name='predictionCol', doc='prediction column name.'), Param(parent='DecisionTreeClassifier_f11e68cc38da', name='probabilityCol', doc='Column name for predicted class conditional probabilities. Note: Not all models output well-calibrated probability estimates! These probabilities should be treated as confidences, not precise probabilities.'), Param(parent='DecisionTreeClassifier_f11e68cc38da', name='rawPredictionCol', doc='raw prediction (a.k.a. confidence) column name.'), Param(parent='DecisionTreeClassifier_f11e68cc38da', name='seed', doc='random seed.'), Param(parent='DecisionTreeClassifier_f11e68cc38da', name='thresholds', doc=\"Thresholds in multi-class classification to adjust the probability of predicting each class. Array must have length equal to the number of classes, with values > 0, excepting that at most one value may be 0. The class with largest value p/t is predicted, where p is the original probability of that class and t is the class's threshold.\"), Param(parent='DecisionTreeClassifier_f11e68cc38da', name='weightCol', doc='weight column name. If this is not set or empty, we treat all instance weights as 1.0.')]\n"
          ]
        }
      ]
    },
    {
      "cell_type": "code",
      "source": [
        "predictions = cv_model.transform(test)\n"
      ],
      "metadata": {
        "id": "dQpRNoiH3RbP"
      },
      "execution_count": 21,
      "outputs": []
    },
    {
      "cell_type": "code",
      "source": [
        "\n",
        "dtModel = DecisionTreeClassifier().fit(test)\n",
        " \n",
        "# ROC for training data\n",
        "display(dtModel, test, \"ROC\")\n"
      ],
      "metadata": {
        "colab": {
          "base_uri": "https://localhost:8080/",
          "height": 91
        },
        "id": "Z504puVvWJ2s",
        "outputId": "f25c96d7-8190-486a-b5cc-e3b2196cd0b6"
      },
      "execution_count": 22,
      "outputs": [
        {
          "output_type": "display_data",
          "data": {
            "text/plain": [
              "DecisionTreeClassificationModel: uid=DecisionTreeClassifier_476ef232e682, depth=5, numNodes=47, numClasses=3, numFeatures=243"
            ]
          },
          "metadata": {}
        },
        {
          "output_type": "display_data",
          "data": {
            "text/plain": [
              "DataFrame[onehot_Location: vector, onehot_Sunshine: vector, onehot_WindGustDir: vector, onehot_WindDir9am: vector, onehot_WindDir3pm: vector, onehot_RainToday: vector, features: vector, label: double]"
            ]
          },
          "metadata": {}
        },
        {
          "output_type": "display_data",
          "data": {
            "text/plain": [
              "'ROC'"
            ],
            "application/vnd.google.colaboratory.intrinsic+json": {
              "type": "string"
            }
          },
          "metadata": {}
        }
      ]
    },
    {
      "cell_type": "code",
      "source": [
        "evaluator.evaluate(predictions)\n"
      ],
      "metadata": {
        "colab": {
          "base_uri": "https://localhost:8080/"
        },
        "id": "9SWmFPKx3YdK",
        "outputId": "6b51b7bf-4982-4429-b23b-cfb11461a771"
      },
      "execution_count": 23,
      "outputs": [
        {
          "output_type": "execute_result",
          "data": {
            "text/plain": [
              "0.7801047120418848"
            ]
          },
          "metadata": {},
          "execution_count": 23
        }
      ]
    },
    {
      "cell_type": "code",
      "source": [
        "#fitting the model\n",
        "\n",
        "from pyspark.ml.regression import GeneralizedLinearRegression\n",
        "from pyspark.ml.classification import LogisticRegression, DecisionTreeClassifier\n",
        "from pyspark.ml.tuning import ParamGridBuilder\n",
        "\n",
        "\n",
        "dt = DecisionTreeClassifier(featuresCol='features', labelCol='label')\n",
        "dtModel = dt.fit(training)\n",
        "\n",
        "    "
      ],
      "metadata": {
        "id": "2Gc1lb3sLD0n"
      },
      "execution_count": 24,
      "outputs": []
    },
    {
      "cell_type": "code",
      "source": [
        "predictions = dtModel.transform(test)\n",
        "predictions.printSchema()\n"
      ],
      "metadata": {
        "colab": {
          "base_uri": "https://localhost:8080/"
        },
        "id": "ahalx6prbSLC",
        "outputId": "8c903ce7-28ca-4f31-eea8-c77defa6a5bc"
      },
      "execution_count": 25,
      "outputs": [
        {
          "output_type": "stream",
          "name": "stdout",
          "text": [
            "root\n",
            " |-- onehot_Location: vector (nullable = true)\n",
            " |-- onehot_Sunshine: vector (nullable = true)\n",
            " |-- onehot_WindGustDir: vector (nullable = true)\n",
            " |-- onehot_WindDir9am: vector (nullable = true)\n",
            " |-- onehot_WindDir3pm: vector (nullable = true)\n",
            " |-- onehot_RainToday: vector (nullable = true)\n",
            " |-- features: vector (nullable = true)\n",
            " |-- label: double (nullable = false)\n",
            " |-- rawPrediction: vector (nullable = true)\n",
            " |-- probability: vector (nullable = true)\n",
            " |-- prediction: double (nullable = false)\n",
            "\n"
          ]
        }
      ]
    },
    {
      "cell_type": "code",
      "source": [
        "selected = predictions.select(\"onehot_Location\", \"onehot_RainToday\", \"onehot_Sunshine\", \"onehot_WindDir3pm\", \"onehot_WindDir9am\")\n",
        "display(selected)"
      ],
      "metadata": {
        "colab": {
          "base_uri": "https://localhost:8080/",
          "height": 35
        },
        "id": "OyQrQVUdhHc7",
        "outputId": "e8584148-feff-4d23-c4ff-ec93b29fbeb0"
      },
      "execution_count": 26,
      "outputs": [
        {
          "output_type": "display_data",
          "data": {
            "text/plain": [
              "DataFrame[onehot_Location: vector, onehot_RainToday: vector, onehot_Sunshine: vector, onehot_WindDir3pm: vector, onehot_WindDir9am: vector]"
            ]
          },
          "metadata": {}
        }
      ]
    }
  ]
}